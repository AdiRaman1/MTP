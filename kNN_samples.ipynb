{
  "nbformat": 4,
  "nbformat_minor": 0,
  "metadata": {
    "colab": {
      "name": "kNN_samples.ipynb",
      "provenance": []
    },
    "kernelspec": {
      "name": "python3",
      "display_name": "Python 3"
    },
    "language_info": {
      "name": "python"
    }
  },
  "cells": [
    {
      "cell_type": "code",
      "metadata": {
        "id": "oXy94_QomLeJ"
      },
      "source": [
        "import pandas as pd\n",
        "import numpy as np\n",
        "from sklearn.model_selection import train_test_split\n",
        "from sklearn.metrics import roc_curve\n",
        "from sklearn.metrics import auc\n",
        "import matplotlib.pyplot as plt"
      ],
      "execution_count": null,
      "outputs": []
    },
    {
      "cell_type": "code",
      "metadata": {
        "colab": {
          "base_uri": "https://localhost:8080/",
          "height": 676
        },
        "id": "Dqq8h_UYmYsN",
        "outputId": "8639e0ef-aac0-449d-d9fe-91b9e390ef89"
      },
      "source": [
        "data = pd.read_csv('nmr_knn_1.csv')\n",
        "data"
      ],
      "execution_count": null,
      "outputs": [
        {
          "output_type": "execute_result",
          "data": {
            "text/plain": [
              "                           honey       t2a       t2b       t2c     t2eff  \\\n",
              "0                       kottayam  0.156770  0.148480  0.149355  0.151535   \n",
              "1                      kallingal  0.129722  0.136035  0.136481  0.134079   \n",
              "2                            pgt  0.191491  0.193969  0.198223  0.194561   \n",
              "3                          chass  0.232517  0.239886  0.239582  0.237328   \n",
              "4                     baidyanath  0.257057  0.255641  0.253626  0.255441   \n",
              "5                         apollo  0.239346  0.240676  0.240705  0.240242   \n",
              "6                      patanjali  0.349624  0.353556  0.342190  0.348457   \n",
              "7                          zandu  0.297419  0.299232  0.301718  0.299456   \n",
              "8                        saffola  0.354736  0.367026  0.372257  0.364673   \n",
              "9                          dabur  0.278248  0.255898  0.278786  0.270977   \n",
              "10                          lion  0.270660  0.284961  0.285294  0.280305   \n",
              "11       2nd harvest - kallingal  0.150363  0.149672  0.152775  0.150937   \n",
              "12       3rd harvest - kallingal  0.161428  0.162611  0.162719  0.162253   \n",
              "13      last harvest - kallingal  0.159262  0.160801  0.162114  0.160726   \n",
              "14                       sucrose  0.563827  0.568911  0.559008  0.563915   \n",
              "15                         sugar  0.577916  0.563652  0.574672  0.572080   \n",
              "16   baidyanth(25%)+sucrose(75%)  0.390230  0.385400  0.386243  0.387291   \n",
              "17  baidyanath(50%)+sucrose(50%)  0.336096  0.346544  0.340407  0.341016   \n",
              "18     kallingal(25%)+sugar(75%)  0.272127  0.276097  0.275902  0.274709   \n",
              "19     kallingal(50%)+sugar(50%)  0.206750  0.207357  0.207137  0.207081   \n",
              "\n",
              "           type  value  \n",
              "0         field      1  \n",
              "1         field      1  \n",
              "2         field      1  \n",
              "3         field      1  \n",
              "4   adulterated      0  \n",
              "5   adulterated      0  \n",
              "6   adulterated      0  \n",
              "7   adulterated      0  \n",
              "8   adulterated      0  \n",
              "9   adulterated      0  \n",
              "10  adulterated      0  \n",
              "11        field      1  \n",
              "12        field      1  \n",
              "13        field      1  \n",
              "14  adulterated      0  \n",
              "15  adulterated      0  \n",
              "16  adulterated      0  \n",
              "17  adulterated      0  \n",
              "18  adulterated      0  \n",
              "19  adulterated      0  "
            ],
            "text/html": [
              "\n",
              "  <div id=\"df-7ce3e06c-e122-44e7-a780-236b7af1742e\">\n",
              "    <div class=\"colab-df-container\">\n",
              "      <div>\n",
              "<style scoped>\n",
              "    .dataframe tbody tr th:only-of-type {\n",
              "        vertical-align: middle;\n",
              "    }\n",
              "\n",
              "    .dataframe tbody tr th {\n",
              "        vertical-align: top;\n",
              "    }\n",
              "\n",
              "    .dataframe thead th {\n",
              "        text-align: right;\n",
              "    }\n",
              "</style>\n",
              "<table border=\"1\" class=\"dataframe\">\n",
              "  <thead>\n",
              "    <tr style=\"text-align: right;\">\n",
              "      <th></th>\n",
              "      <th>honey</th>\n",
              "      <th>t2a</th>\n",
              "      <th>t2b</th>\n",
              "      <th>t2c</th>\n",
              "      <th>t2eff</th>\n",
              "      <th>type</th>\n",
              "      <th>value</th>\n",
              "    </tr>\n",
              "  </thead>\n",
              "  <tbody>\n",
              "    <tr>\n",
              "      <th>0</th>\n",
              "      <td>kottayam</td>\n",
              "      <td>0.156770</td>\n",
              "      <td>0.148480</td>\n",
              "      <td>0.149355</td>\n",
              "      <td>0.151535</td>\n",
              "      <td>field</td>\n",
              "      <td>1</td>\n",
              "    </tr>\n",
              "    <tr>\n",
              "      <th>1</th>\n",
              "      <td>kallingal</td>\n",
              "      <td>0.129722</td>\n",
              "      <td>0.136035</td>\n",
              "      <td>0.136481</td>\n",
              "      <td>0.134079</td>\n",
              "      <td>field</td>\n",
              "      <td>1</td>\n",
              "    </tr>\n",
              "    <tr>\n",
              "      <th>2</th>\n",
              "      <td>pgt</td>\n",
              "      <td>0.191491</td>\n",
              "      <td>0.193969</td>\n",
              "      <td>0.198223</td>\n",
              "      <td>0.194561</td>\n",
              "      <td>field</td>\n",
              "      <td>1</td>\n",
              "    </tr>\n",
              "    <tr>\n",
              "      <th>3</th>\n",
              "      <td>chass</td>\n",
              "      <td>0.232517</td>\n",
              "      <td>0.239886</td>\n",
              "      <td>0.239582</td>\n",
              "      <td>0.237328</td>\n",
              "      <td>field</td>\n",
              "      <td>1</td>\n",
              "    </tr>\n",
              "    <tr>\n",
              "      <th>4</th>\n",
              "      <td>baidyanath</td>\n",
              "      <td>0.257057</td>\n",
              "      <td>0.255641</td>\n",
              "      <td>0.253626</td>\n",
              "      <td>0.255441</td>\n",
              "      <td>adulterated</td>\n",
              "      <td>0</td>\n",
              "    </tr>\n",
              "    <tr>\n",
              "      <th>5</th>\n",
              "      <td>apollo</td>\n",
              "      <td>0.239346</td>\n",
              "      <td>0.240676</td>\n",
              "      <td>0.240705</td>\n",
              "      <td>0.240242</td>\n",
              "      <td>adulterated</td>\n",
              "      <td>0</td>\n",
              "    </tr>\n",
              "    <tr>\n",
              "      <th>6</th>\n",
              "      <td>patanjali</td>\n",
              "      <td>0.349624</td>\n",
              "      <td>0.353556</td>\n",
              "      <td>0.342190</td>\n",
              "      <td>0.348457</td>\n",
              "      <td>adulterated</td>\n",
              "      <td>0</td>\n",
              "    </tr>\n",
              "    <tr>\n",
              "      <th>7</th>\n",
              "      <td>zandu</td>\n",
              "      <td>0.297419</td>\n",
              "      <td>0.299232</td>\n",
              "      <td>0.301718</td>\n",
              "      <td>0.299456</td>\n",
              "      <td>adulterated</td>\n",
              "      <td>0</td>\n",
              "    </tr>\n",
              "    <tr>\n",
              "      <th>8</th>\n",
              "      <td>saffola</td>\n",
              "      <td>0.354736</td>\n",
              "      <td>0.367026</td>\n",
              "      <td>0.372257</td>\n",
              "      <td>0.364673</td>\n",
              "      <td>adulterated</td>\n",
              "      <td>0</td>\n",
              "    </tr>\n",
              "    <tr>\n",
              "      <th>9</th>\n",
              "      <td>dabur</td>\n",
              "      <td>0.278248</td>\n",
              "      <td>0.255898</td>\n",
              "      <td>0.278786</td>\n",
              "      <td>0.270977</td>\n",
              "      <td>adulterated</td>\n",
              "      <td>0</td>\n",
              "    </tr>\n",
              "    <tr>\n",
              "      <th>10</th>\n",
              "      <td>lion</td>\n",
              "      <td>0.270660</td>\n",
              "      <td>0.284961</td>\n",
              "      <td>0.285294</td>\n",
              "      <td>0.280305</td>\n",
              "      <td>adulterated</td>\n",
              "      <td>0</td>\n",
              "    </tr>\n",
              "    <tr>\n",
              "      <th>11</th>\n",
              "      <td>2nd harvest - kallingal</td>\n",
              "      <td>0.150363</td>\n",
              "      <td>0.149672</td>\n",
              "      <td>0.152775</td>\n",
              "      <td>0.150937</td>\n",
              "      <td>field</td>\n",
              "      <td>1</td>\n",
              "    </tr>\n",
              "    <tr>\n",
              "      <th>12</th>\n",
              "      <td>3rd harvest - kallingal</td>\n",
              "      <td>0.161428</td>\n",
              "      <td>0.162611</td>\n",
              "      <td>0.162719</td>\n",
              "      <td>0.162253</td>\n",
              "      <td>field</td>\n",
              "      <td>1</td>\n",
              "    </tr>\n",
              "    <tr>\n",
              "      <th>13</th>\n",
              "      <td>last harvest - kallingal</td>\n",
              "      <td>0.159262</td>\n",
              "      <td>0.160801</td>\n",
              "      <td>0.162114</td>\n",
              "      <td>0.160726</td>\n",
              "      <td>field</td>\n",
              "      <td>1</td>\n",
              "    </tr>\n",
              "    <tr>\n",
              "      <th>14</th>\n",
              "      <td>sucrose</td>\n",
              "      <td>0.563827</td>\n",
              "      <td>0.568911</td>\n",
              "      <td>0.559008</td>\n",
              "      <td>0.563915</td>\n",
              "      <td>adulterated</td>\n",
              "      <td>0</td>\n",
              "    </tr>\n",
              "    <tr>\n",
              "      <th>15</th>\n",
              "      <td>sugar</td>\n",
              "      <td>0.577916</td>\n",
              "      <td>0.563652</td>\n",
              "      <td>0.574672</td>\n",
              "      <td>0.572080</td>\n",
              "      <td>adulterated</td>\n",
              "      <td>0</td>\n",
              "    </tr>\n",
              "    <tr>\n",
              "      <th>16</th>\n",
              "      <td>baidyanth(25%)+sucrose(75%)</td>\n",
              "      <td>0.390230</td>\n",
              "      <td>0.385400</td>\n",
              "      <td>0.386243</td>\n",
              "      <td>0.387291</td>\n",
              "      <td>adulterated</td>\n",
              "      <td>0</td>\n",
              "    </tr>\n",
              "    <tr>\n",
              "      <th>17</th>\n",
              "      <td>baidyanath(50%)+sucrose(50%)</td>\n",
              "      <td>0.336096</td>\n",
              "      <td>0.346544</td>\n",
              "      <td>0.340407</td>\n",
              "      <td>0.341016</td>\n",
              "      <td>adulterated</td>\n",
              "      <td>0</td>\n",
              "    </tr>\n",
              "    <tr>\n",
              "      <th>18</th>\n",
              "      <td>kallingal(25%)+sugar(75%)</td>\n",
              "      <td>0.272127</td>\n",
              "      <td>0.276097</td>\n",
              "      <td>0.275902</td>\n",
              "      <td>0.274709</td>\n",
              "      <td>adulterated</td>\n",
              "      <td>0</td>\n",
              "    </tr>\n",
              "    <tr>\n",
              "      <th>19</th>\n",
              "      <td>kallingal(50%)+sugar(50%)</td>\n",
              "      <td>0.206750</td>\n",
              "      <td>0.207357</td>\n",
              "      <td>0.207137</td>\n",
              "      <td>0.207081</td>\n",
              "      <td>adulterated</td>\n",
              "      <td>0</td>\n",
              "    </tr>\n",
              "  </tbody>\n",
              "</table>\n",
              "</div>\n",
              "      <button class=\"colab-df-convert\" onclick=\"convertToInteractive('df-7ce3e06c-e122-44e7-a780-236b7af1742e')\"\n",
              "              title=\"Convert this dataframe to an interactive table.\"\n",
              "              style=\"display:none;\">\n",
              "        \n",
              "  <svg xmlns=\"http://www.w3.org/2000/svg\" height=\"24px\"viewBox=\"0 0 24 24\"\n",
              "       width=\"24px\">\n",
              "    <path d=\"M0 0h24v24H0V0z\" fill=\"none\"/>\n",
              "    <path d=\"M18.56 5.44l.94 2.06.94-2.06 2.06-.94-2.06-.94-.94-2.06-.94 2.06-2.06.94zm-11 1L8.5 8.5l.94-2.06 2.06-.94-2.06-.94L8.5 2.5l-.94 2.06-2.06.94zm10 10l.94 2.06.94-2.06 2.06-.94-2.06-.94-.94-2.06-.94 2.06-2.06.94z\"/><path d=\"M17.41 7.96l-1.37-1.37c-.4-.4-.92-.59-1.43-.59-.52 0-1.04.2-1.43.59L10.3 9.45l-7.72 7.72c-.78.78-.78 2.05 0 2.83L4 21.41c.39.39.9.59 1.41.59.51 0 1.02-.2 1.41-.59l7.78-7.78 2.81-2.81c.8-.78.8-2.07 0-2.86zM5.41 20L4 18.59l7.72-7.72 1.47 1.35L5.41 20z\"/>\n",
              "  </svg>\n",
              "      </button>\n",
              "      \n",
              "  <style>\n",
              "    .colab-df-container {\n",
              "      display:flex;\n",
              "      flex-wrap:wrap;\n",
              "      gap: 12px;\n",
              "    }\n",
              "\n",
              "    .colab-df-convert {\n",
              "      background-color: #E8F0FE;\n",
              "      border: none;\n",
              "      border-radius: 50%;\n",
              "      cursor: pointer;\n",
              "      display: none;\n",
              "      fill: #1967D2;\n",
              "      height: 32px;\n",
              "      padding: 0 0 0 0;\n",
              "      width: 32px;\n",
              "    }\n",
              "\n",
              "    .colab-df-convert:hover {\n",
              "      background-color: #E2EBFA;\n",
              "      box-shadow: 0px 1px 2px rgba(60, 64, 67, 0.3), 0px 1px 3px 1px rgba(60, 64, 67, 0.15);\n",
              "      fill: #174EA6;\n",
              "    }\n",
              "\n",
              "    [theme=dark] .colab-df-convert {\n",
              "      background-color: #3B4455;\n",
              "      fill: #D2E3FC;\n",
              "    }\n",
              "\n",
              "    [theme=dark] .colab-df-convert:hover {\n",
              "      background-color: #434B5C;\n",
              "      box-shadow: 0px 1px 3px 1px rgba(0, 0, 0, 0.15);\n",
              "      filter: drop-shadow(0px 1px 2px rgba(0, 0, 0, 0.3));\n",
              "      fill: #FFFFFF;\n",
              "    }\n",
              "  </style>\n",
              "\n",
              "      <script>\n",
              "        const buttonEl =\n",
              "          document.querySelector('#df-7ce3e06c-e122-44e7-a780-236b7af1742e button.colab-df-convert');\n",
              "        buttonEl.style.display =\n",
              "          google.colab.kernel.accessAllowed ? 'block' : 'none';\n",
              "\n",
              "        async function convertToInteractive(key) {\n",
              "          const element = document.querySelector('#df-7ce3e06c-e122-44e7-a780-236b7af1742e');\n",
              "          const dataTable =\n",
              "            await google.colab.kernel.invokeFunction('convertToInteractive',\n",
              "                                                     [key], {});\n",
              "          if (!dataTable) return;\n",
              "\n",
              "          const docLinkHtml = 'Like what you see? Visit the ' +\n",
              "            '<a target=\"_blank\" href=https://colab.research.google.com/notebooks/data_table.ipynb>data table notebook</a>'\n",
              "            + ' to learn more about interactive tables.';\n",
              "          element.innerHTML = '';\n",
              "          dataTable['output_type'] = 'display_data';\n",
              "          await google.colab.output.renderOutput(dataTable, element);\n",
              "          const docLink = document.createElement('div');\n",
              "          docLink.innerHTML = docLinkHtml;\n",
              "          element.appendChild(docLink);\n",
              "        }\n",
              "      </script>\n",
              "    </div>\n",
              "  </div>\n",
              "  "
            ]
          },
          "metadata": {},
          "execution_count": 2
        }
      ]
    },
    {
      "cell_type": "code",
      "source": [
        "x = data.iloc[:, 1:5].values\n",
        "y = data['value'].values"
      ],
      "metadata": {
        "id": "fFu5k1-rQtwT"
      },
      "execution_count": null,
      "outputs": []
    },
    {
      "cell_type": "code",
      "source": [
        "x_train, x_test, y_train, y_test = train_test_split(x, y , test_size=0.2, stratify = y, random_state = 32)"
      ],
      "metadata": {
        "id": "5IY2g_XWRKqW"
      },
      "execution_count": null,
      "outputs": []
    },
    {
      "cell_type": "code",
      "source": [
        "from sklearn.neighbors import KNeighborsClassifier\n",
        "from sklearn.linear_model import LogisticRegression,LinearRegression"
      ],
      "metadata": {
        "id": "HxXlaECGbKjS"
      },
      "execution_count": null,
      "outputs": []
    },
    {
      "cell_type": "code",
      "source": [
        "knn = KNeighborsClassifier(n_neighbors = 5)\n",
        "knn.fit(x_train,y_train)\n",
        "\n",
        "y_scores = knn.predict_proba(x_test)\n",
        "fpr, tpr, threshold = roc_curve(y_test, y_scores[:, 1])\n",
        "roc_auc = auc(fpr, tpr)\n",
        "\n",
        "plt.title('Receiver Operating Characteristic')\n",
        "plt.plot(fpr, tpr, 'b', label = 'AUC = %0.2f' % roc_auc)\n",
        "plt.legend(loc = 'lower right')\n",
        "plt.plot([0, 1], [0, 1],'r--')\n",
        "plt.xlim([0, 1])\n",
        "plt.ylim([0, 1])\n",
        "plt.ylabel('True Positive Rate')\n",
        "plt.xlabel('False Positive Rate')\n",
        "plt.title('ROC Curve of kNN')\n",
        "plt.show()"
      ],
      "metadata": {
        "colab": {
          "base_uri": "https://localhost:8080/",
          "height": 295
        },
        "id": "XUSs7XpqFHmq",
        "outputId": "3b24f9c6-8c45-424f-d033-ce84634f3063"
      },
      "execution_count": null,
      "outputs": [
        {
          "output_type": "display_data",
          "data": {
            "text/plain": [
              "<Figure size 432x288 with 1 Axes>"
            ],
            "image/png": "[encoded data removed]"
          },
          "metadata": {
            "needs_background": "light"
          }
        }
      ]
    },
    {
      "cell_type": "code",
      "source": [
        "model.predict(x_test)"
      ],
      "metadata": {
        "colab": {
          "base_uri": "https://localhost:8080/"
        },
        "id": "7zzMBSEpbVIm",
        "outputId": "34d69264-45e3-4d5a-c249-01f00504c2fa"
      },
      "execution_count": null,
      "outputs": [
        {
          "output_type": "execute_result",
          "data": {
            "text/plain": [
              "array([0, 0, 0, 0])"
            ]
          },
          "metadata": {},
          "execution_count": 19
        }
      ]
    },
    {
      "cell_type": "code",
      "source": [
        "y_test"
      ],
      "metadata": {
        "colab": {
          "base_uri": "https://localhost:8080/"
        },
        "id": "nckijkQdbVLl",
        "outputId": "5a533808-029f-4da9-a8fa-f8b0fbb15d2a"
      },
      "execution_count": null,
      "outputs": [
        {
          "output_type": "execute_result",
          "data": {
            "text/plain": [
              "array([0, 0, 0, 1])"
            ]
          },
          "metadata": {},
          "execution_count": 20
        }
      ]
    },
    {
      "cell_type": "code",
      "source": [
        "x_train.shape"
      ],
      "metadata": {
        "colab": {
          "base_uri": "https://localhost:8080/"
        },
        "id": "PNRO8jPCamCQ",
        "outputId": "aad532bc-9eef-4f78-995c-e1b06ae26f75"
      },
      "execution_count": null,
      "outputs": [
        {
          "output_type": "execute_result",
          "data": {
            "text/plain": [
              "(16, 4)"
            ]
          },
          "metadata": {},
          "execution_count": 21
        }
      ]
    },
    {
      "cell_type": "code",
      "source": [
        "KNN(x_train, y_train, l=2)"
      ],
      "metadata": {
        "colab": {
          "base_uri": "https://localhost:8080/"
        },
        "id": "kEXmTJvoSX_t",
        "outputId": "7aeda0cd-4115-4732-9e30-ee65e16f47c5"
      },
      "execution_count": null,
      "outputs": [
        {
          "output_type": "stream",
          "name": "stdout",
          "text": [
            "2 Test class = 0 \n",
            "Prdicted class= 0.0\n"
          ]
        },
        {
          "output_type": "execute_result",
          "data": {
            "text/plain": [
              "0.0"
            ]
          },
          "metadata": {},
          "execution_count": 25
        }
      ]
    },
    {
      "cell_type": "code",
      "source": [
        "prediction = []\n",
        "for i in range(4):\n",
        "  p = KNN(x_train, y_train, i, k =1)\n",
        "  prediction.append(p)"
      ],
      "metadata": {
        "colab": {
          "base_uri": "https://localhost:8080/"
        },
        "id": "GKxizEKoS8Ru",
        "outputId": "20d9daf8-3458-4679-e536-9240cf61bf47"
      },
      "execution_count": null,
      "outputs": [
        {
          "output_type": "stream",
          "name": "stdout",
          "text": [
            "0 Test class = 0 \n",
            "Prdicted class= 0.0\n",
            "1 Test class = 0 \n",
            "Prdicted class= 0.0\n",
            "2 Test class = 0 \n",
            "Prdicted class= 0.0\n",
            "3 Test class = 1 \n",
            "Prdicted class= 0.0\n"
          ]
        }
      ]
    },
    {
      "cell_type": "code",
      "source": [
        "predictions = np.array(prediction)\n",
        "(y_test[:4] == predictions).sum()/len(predictions)"
      ],
      "metadata": {
        "colab": {
          "base_uri": "https://localhost:8080/"
        },
        "id": "bDtDW9PoS-_G",
        "outputId": "78986cc0-c189-4b9f-9c43-3c7e6f59cf45"
      },
      "execution_count": null,
      "outputs": [
        {
          "output_type": "execute_result",
          "data": {
            "text/plain": [
              "0.75"
            ]
          },
          "metadata": {},
          "execution_count": 27
        }
      ]
    }
  ]
}